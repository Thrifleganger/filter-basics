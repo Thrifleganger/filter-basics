{
 "cells": [
  {
   "cell_type": "markdown",
   "metadata": {},
   "source": [
    "## First Order Feedback Filter\n",
    "\n",
    "Let's analyze the impulse response of a 1st order feedback filter."
   ]
  },
  {
   "cell_type": "code",
   "execution_count": 24,
   "metadata": {},
   "outputs": [
    {
     "data": {
      "application/vnd.jupyter.widget-view+json": {
       "model_id": "0d43ed1c41224b2095fbe569b41e873c",
       "version_major": 2,
       "version_minor": 0
      },
      "text/plain": [
       "interactive(children=(FloatSlider(value=0.8, description='b1', max=1.0, min=-1.0, step=0.01), Output()), _dom_…"
      ]
     },
     "metadata": {},
     "output_type": "display_data"
    }
   ],
   "source": [
    "import numpy as np\n",
    "import matplotlib.pyplot as plt\n",
    "import ipywidgets as widgets\n",
    "\n",
    "frameSize = 2048\n",
    "\n",
    "def feedbackFilter(x, a0, b1):\n",
    "    y = np.zeros(x.size)\n",
    "    for n in range(0, x.size):\n",
    "        y[n] = a0 * x[n] - b1 * y[n-1]\n",
    "    return y\n",
    "\n",
    "\n",
    "impulse = np.zeros(frameSize)\n",
    "impulse[0] = 1;\n",
    "\n",
    "@widgets.interact(b1=widgets.FloatSlider(min=-1.0, max=1.0, step=0.01, value=0.8))\n",
    "def execute(b1=0.8):\n",
    "    impulseResponse = feedbackFilter(impulse, 1.0, b1)\n",
    "    \n",
    "    fig, axes = plt.subplots(1, 2, figsize=(16,6))\n",
    "    ax = axes[0]\n",
    "    ax.plot(impulse, 'bo-')\n",
    "    ax.set_xlabel('Sample count')\n",
    "    ax.set_ylabel('Amplitude')\n",
    "    ax.set_ylim(-0.1, 1.1)\n",
    "    ax.set_xlim(-0.5, 10)\n",
    "    ax.set_title(\"Impulse\")\n",
    "    ax.grid(which='both', axis='both')\n",
    "    \n",
    "    ax = axes[1]\n",
    "    ax.plot(impulseResponse, 'ro-')\n",
    "    ax.set_xlabel('Sample count')\n",
    "    ax.set_ylim(-1.1, 1.1)\n",
    "    ax.set_xlim(-0.5, 50)\n",
    "    ax.set_title(\"Impulse Response\")\n",
    "    ax.grid(which='both', axis='both')\n",
    "\n",
    "    plt.show"
   ]
  },
  {
   "cell_type": "markdown",
   "metadata": {},
   "source": [
    "We can then perform a Fourier transform on the impulse signal. This will give us an array of complex numbers which is stored in spectrum. Extracting the magnitudes of the complex numbers and plotting them will give us a frequency response plot, and extracting the angles will give us a phase response plot"
   ]
  },
  {
   "cell_type": "code",
   "execution_count": 28,
   "metadata": {},
   "outputs": [
    {
     "data": {
      "application/vnd.jupyter.widget-view+json": {
       "model_id": "5ec72206a9e941deb137043e5cccd3d6",
       "version_major": 2,
       "version_minor": 0
      },
      "text/plain": [
       "interactive(children=(FloatSlider(value=0.8, description='b1', max=1.0, min=-1.0, step=0.001), Output()), _dom…"
      ]
     },
     "metadata": {},
     "output_type": "display_data"
    }
   ],
   "source": [
    "from scipy.fftpack import fft\n",
    "\n",
    "sampleRate = 44100\n",
    "\n",
    "@widgets.interact(b1=widgets.FloatSlider(min=-1.0, max=1.0, step=0.001, value=0.8))\n",
    "def execute(b1=0.8):\n",
    "    spectrum = fft(feedbackFilter(impulse, 1.0, 0, b1))    \n",
    "    x = np.linspace(0, 0.5, spectrum.size//2)\n",
    "    \n",
    "    fig, axes = plt.subplots(1, 2, figsize=(16,6))\n",
    "    ax = axes[0]\n",
    "    with np.errstate(divide='ignore'):\n",
    "        y = (20 * np.log10(np.abs(spectrum)))[:spectrum.size//2]\n",
    "    ax.plot(x, y, 'b')\n",
    "    #ax.set_xscale('log')\n",
    "    ax.set_xlabel('Normalized frequency')\n",
    "    ax.set_ylabel('Amplitude (dB)')\n",
    "    ax.set_title(\"Frequency Response\")\n",
    "    ax.grid(which='both', axis='both')\n",
    "    \n",
    "    ax = axes[1]\n",
    "    y = np.degrees(np.angle(spectrum))[:spectrum.size//2]\n",
    "    ax.plot(x, y, 'r')\n",
    "    #ax.set_xscale('log')\n",
    "    ax.set_xlabel('Normalized frequency')\n",
    "    ax.set_ylabel('Phase (deg)')\n",
    "    ax.set_title(\"Phase Response\")\n",
    "    ax.grid(which='both', axis='both')\n",
    "    \n",
    "    plt.show()"
   ]
  }
 ],
 "metadata": {
  "kernelspec": {
   "display_name": "Python 3 (ipykernel)",
   "language": "python",
   "name": "python3"
  },
  "language_info": {
   "codemirror_mode": {
    "name": "ipython",
    "version": 3
   },
   "file_extension": ".py",
   "mimetype": "text/x-python",
   "name": "python",
   "nbconvert_exporter": "python",
   "pygments_lexer": "ipython3",
   "version": "3.11.5"
  }
 },
 "nbformat": 4,
 "nbformat_minor": 4
}
